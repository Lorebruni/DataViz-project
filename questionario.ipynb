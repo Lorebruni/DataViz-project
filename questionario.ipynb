{
 "cells": [
  {
   "cell_type": "code",
   "execution_count": 903,
   "metadata": {},
   "outputs": [],
   "source": [
    "import pandas as pd\n",
    "import numpy as np\n",
    "import matplotlib.pyplot as plt\n",
    "from matplotlib.patches import Circle, Rectangle\n",
    "from mpl_toolkits.axes_grid1.anchored_artists import AnchoredDrawingArea\n"
   ]
  },
  {
   "cell_type": "code",
   "execution_count": 347,
   "metadata": {},
   "outputs": [],
   "source": [
    "risposte=pd.read_csv('questionario_risposte_1.csv',header=0)"
   ]
  },
  {
   "cell_type": "markdown",
   "metadata": {},
   "source": [
    "Si considerano solo gli attributi di interesse e trasponiamo la tabella"
   ]
  },
  {
   "cell_type": "code",
   "execution_count": 348,
   "metadata": {},
   "outputs": [],
   "source": [
    "risp_mappe=risposte[risposte.columns[2:8]]\n",
    "risp_serie=risposte[risposte.columns[8:]]\n",
    "#risposte=risposte.T"
   ]
  },
  {
   "cell_type": "code",
   "execution_count": 349,
   "metadata": {},
   "outputs": [],
   "source": [
    "risp_serie.columns=list(risp_mappe.columns)"
   ]
  },
  {
   "cell_type": "markdown",
   "metadata": {},
   "source": [
    "Trasformiamo i valori assoluti in percentuali"
   ]
  },
  {
   "cell_type": "code",
   "execution_count": 350,
   "metadata": {},
   "outputs": [],
   "source": [
    "#risp_mappe=risp_mappe.T\n",
    "#risp_serie=risp_serie.T"
   ]
  },
  {
   "cell_type": "code",
   "execution_count": 351,
   "metadata": {},
   "outputs": [],
   "source": [
    "#risp_mappe.reset_index(inplace=True)\n",
    "#risp_mappe.columns=['dim_analisi']+list(risp_mappe.columns[1:])"
   ]
  },
  {
   "cell_type": "code",
   "execution_count": 352,
   "metadata": {},
   "outputs": [],
   "source": [
    "#risp_serie.reset_index(inplace=True)\n",
    "#risp_serie.columns=['dim_analisi']+list(risp_serie.columns[1:])"
   ]
  },
  {
   "cell_type": "code",
   "execution_count": 369,
   "metadata": {},
   "outputs": [],
   "source": [
    "g4=(risp_mappe.iloc[:]>4).sum()\n",
    "u3=((risp_mappe.iloc[:]==3)).sum()\n",
    "u4=((risp_mappe.iloc[:]==4)).sum()\n",
    "m2=(risp_mappe.iloc[:]<3).sum()"
   ]
  },
  {
   "cell_type": "code",
   "execution_count": 370,
   "metadata": {},
   "outputs": [],
   "source": [
    "freq_ass_mappe=pd.DataFrame(data={'<3':m2, '==3':u3, '==4':u4, '>4':g4})"
   ]
  },
  {
   "cell_type": "code",
   "execution_count": 371,
   "metadata": {},
   "outputs": [],
   "source": [
    "g4=(risp_serie.iloc[:]>4).sum()\n",
    "u3=((risp_serie.iloc[:]==3)).sum()\n",
    "u4=((risp_serie.iloc[:]==4)).sum()\n",
    "m2=(risp_serie.iloc[:]<3).sum()"
   ]
  },
  {
   "cell_type": "code",
   "execution_count": 372,
   "metadata": {},
   "outputs": [],
   "source": [
    "freq_ass_serie=pd.DataFrame(data={'<3':m2, '==3':u3, '==4':u4, '>4':g4})"
   ]
  },
  {
   "cell_type": "code",
   "execution_count": 373,
   "metadata": {},
   "outputs": [],
   "source": [
    "n=len(risp_mappe)"
   ]
  },
  {
   "cell_type": "code",
   "execution_count": 450,
   "metadata": {},
   "outputs": [],
   "source": [
    "freq_rel_mappe=round((freq_ass_mappe/n)*100,4)\n",
    "freq_rel_mappe.columns=['<3(%)','==3(%)','==4(%)','>4(%)']\n",
    "\n",
    "freq_rel_serie=round((freq_ass_serie/n)*100,4)\n",
    "freq_rel_serie.columns=['<3(%)','==3(%)','==4(%)','>4(%)']"
   ]
  },
  {
   "cell_type": "code",
   "execution_count": 451,
   "metadata": {},
   "outputs": [],
   "source": [
    "freq_rel_mappe.reset_index(inplace=True)\n",
    "freq_rel_mappe.columns=['dim_analisi']+list(freq_rel_mappe.columns[1:])\n",
    "\n",
    "freq_rel_serie.reset_index(inplace=True)\n",
    "freq_rel_serie.columns=['dim_analisi']+list(freq_rel_serie.columns[1:])"
   ]
  },
  {
   "cell_type": "code",
   "execution_count": 452,
   "metadata": {},
   "outputs": [],
   "source": [
    "freq_rel_mappe['==3/4(%)']=freq_rel_mappe['==3(%)']+freq_rel_mappe['==4(%)']\n",
    "freq_rel_mappe['-(==3(%))']=-freq_rel_mappe['==3(%)']\n",
    "freq_rel_mappe['-(<3(%))']=-freq_rel_mappe['<3(%)']\n",
    "\n",
    "freq_rel_serie['==3/4(%)']=freq_rel_serie['==3(%)']+freq_rel_serie['==4(%)']\n",
    "freq_rel_serie['-(==3(%))']=-freq_rel_serie['==3(%)']\n",
    "freq_rel_serie['-(<3(%))']=-freq_rel_serie['<3(%)']"
   ]
  },
  {
   "cell_type": "markdown",
   "metadata": {},
   "source": [
    "Calcoliamo la proporzione dei valori positivi e negativi incerti"
   ]
  },
  {
   "cell_type": "code",
   "execution_count": 556,
   "metadata": {},
   "outputs": [],
   "source": [
    "freq_rel_mappe['uncertain']=[freq_ass_mappe['==4'][i]/(freq_ass_mappe['==3'][i]+freq_ass_mappe['==4'][i]) for i in range(6)]\n",
    "freq_rel_serie['uncertain']=[freq_ass_serie['==4'][i]/(freq_ass_serie['==3'][i]+freq_ass_serie['==4'][i]) for i in range(6)]"
   ]
  },
  {
   "cell_type": "markdown",
   "metadata": {},
   "source": [
    "Calcoliamo l'intervallo di confidenza per i valori di uncertain"
   ]
  },
  {
   "cell_type": "code",
   "execution_count": 659,
   "metadata": {},
   "outputs": [],
   "source": [
    "z=1.96\n",
    "n=len(risposte)"
   ]
  },
  {
   "cell_type": "code",
   "execution_count": 660,
   "metadata": {},
   "outputs": [],
   "source": [
    "freq_rel_mappe['inf_lim']=[freq_rel_mappe['uncertain'][i]-z*(freq_rel_mappe['uncertain'][i]*(1-freq_rel_mappe['uncertain'][i])/n)**0.5 for i in range(6)]\n",
    "freq_rel_mappe['sup_lim']=[freq_rel_mappe['uncertain'][i]+z*(freq_rel_mappe['uncertain'][i]*(1-freq_rel_mappe['uncertain'][i])/n)**0.5 for i in range(6)]\n",
    "\n",
    "freq_rel_serie['inf_lim']=[freq_rel_serie['uncertain'][i]-z*(freq_rel_serie['uncertain'][i]*(1-freq_rel_serie['uncertain'][i])/n)**0.5 for i in range(6)]\n",
    "freq_rel_serie['sup_lim']=[freq_rel_serie['uncertain'][i]+z*(freq_rel_serie['uncertain'][i]*(1-freq_rel_serie['uncertain'][i])/n)**0.5 for i in range(6)]"
   ]
  },
  {
   "cell_type": "code",
   "execution_count": 661,
   "metadata": {},
   "outputs": [
    {
     "data": {
      "text/html": [
       "<div>\n",
       "<style scoped>\n",
       "    .dataframe tbody tr th:only-of-type {\n",
       "        vertical-align: middle;\n",
       "    }\n",
       "\n",
       "    .dataframe tbody tr th {\n",
       "        vertical-align: top;\n",
       "    }\n",
       "\n",
       "    .dataframe thead th {\n",
       "        text-align: right;\n",
       "    }\n",
       "</style>\n",
       "<table border=\"1\" class=\"dataframe\">\n",
       "  <thead>\n",
       "    <tr style=\"text-align: right;\">\n",
       "      <th></th>\n",
       "      <th>dim_analisi</th>\n",
       "      <th>&lt;3(%)</th>\n",
       "      <th>==3(%)</th>\n",
       "      <th>==4(%)</th>\n",
       "      <th>&gt;4(%)</th>\n",
       "      <th>==3/4(%)</th>\n",
       "      <th>-(==3(%))</th>\n",
       "      <th>-(&lt;3(%))</th>\n",
       "      <th>uncertain</th>\n",
       "      <th>inf_lim</th>\n",
       "      <th>sup_lim</th>\n",
       "    </tr>\n",
       "  </thead>\n",
       "  <tbody>\n",
       "    <tr>\n",
       "      <th>0</th>\n",
       "      <td>Utilità</td>\n",
       "      <td>0.0000</td>\n",
       "      <td>0.0000</td>\n",
       "      <td>17.2414</td>\n",
       "      <td>82.7586</td>\n",
       "      <td>17.2414</td>\n",
       "      <td>-0.0000</td>\n",
       "      <td>-0.0000</td>\n",
       "      <td>1.000000</td>\n",
       "      <td>1.000000</td>\n",
       "      <td>1.000000</td>\n",
       "    </tr>\n",
       "    <tr>\n",
       "      <th>1</th>\n",
       "      <td>Intuitività</td>\n",
       "      <td>0.0000</td>\n",
       "      <td>0.0000</td>\n",
       "      <td>27.5862</td>\n",
       "      <td>72.4138</td>\n",
       "      <td>27.5862</td>\n",
       "      <td>-0.0000</td>\n",
       "      <td>-0.0000</td>\n",
       "      <td>1.000000</td>\n",
       "      <td>1.000000</td>\n",
       "      <td>1.000000</td>\n",
       "    </tr>\n",
       "    <tr>\n",
       "      <th>2</th>\n",
       "      <td>Chiarezza</td>\n",
       "      <td>0.0000</td>\n",
       "      <td>3.4483</td>\n",
       "      <td>34.4828</td>\n",
       "      <td>62.0690</td>\n",
       "      <td>37.9311</td>\n",
       "      <td>-3.4483</td>\n",
       "      <td>-0.0000</td>\n",
       "      <td>0.909091</td>\n",
       "      <td>0.804459</td>\n",
       "      <td>1.013723</td>\n",
       "    </tr>\n",
       "    <tr>\n",
       "      <th>3</th>\n",
       "      <td>Informatività</td>\n",
       "      <td>0.0000</td>\n",
       "      <td>0.0000</td>\n",
       "      <td>17.2414</td>\n",
       "      <td>82.7586</td>\n",
       "      <td>17.2414</td>\n",
       "      <td>-0.0000</td>\n",
       "      <td>-0.0000</td>\n",
       "      <td>1.000000</td>\n",
       "      <td>1.000000</td>\n",
       "      <td>1.000000</td>\n",
       "    </tr>\n",
       "    <tr>\n",
       "      <th>4</th>\n",
       "      <td>Bellezza estetica</td>\n",
       "      <td>3.4483</td>\n",
       "      <td>6.8966</td>\n",
       "      <td>34.4828</td>\n",
       "      <td>55.1724</td>\n",
       "      <td>41.3794</td>\n",
       "      <td>-6.8966</td>\n",
       "      <td>-3.4483</td>\n",
       "      <td>0.833333</td>\n",
       "      <td>0.697692</td>\n",
       "      <td>0.968974</td>\n",
       "    </tr>\n",
       "    <tr>\n",
       "      <th>5</th>\n",
       "      <td>Di valore</td>\n",
       "      <td>0.0000</td>\n",
       "      <td>3.4483</td>\n",
       "      <td>17.2414</td>\n",
       "      <td>79.3103</td>\n",
       "      <td>20.6897</td>\n",
       "      <td>-3.4483</td>\n",
       "      <td>-0.0000</td>\n",
       "      <td>0.833333</td>\n",
       "      <td>0.697692</td>\n",
       "      <td>0.968974</td>\n",
       "    </tr>\n",
       "  </tbody>\n",
       "</table>\n",
       "</div>"
      ],
      "text/plain": [
       "         dim_analisi   <3(%)  ==3(%)   ==4(%)    >4(%)  ==3/4(%)  -(==3(%))  \\\n",
       "0            Utilità  0.0000  0.0000  17.2414  82.7586   17.2414    -0.0000   \n",
       "1        Intuitività  0.0000  0.0000  27.5862  72.4138   27.5862    -0.0000   \n",
       "2          Chiarezza  0.0000  3.4483  34.4828  62.0690   37.9311    -3.4483   \n",
       "3      Informatività  0.0000  0.0000  17.2414  82.7586   17.2414    -0.0000   \n",
       "4  Bellezza estetica  3.4483  6.8966  34.4828  55.1724   41.3794    -6.8966   \n",
       "5          Di valore  0.0000  3.4483  17.2414  79.3103   20.6897    -3.4483   \n",
       "\n",
       "   -(<3(%))  uncertain   inf_lim   sup_lim  \n",
       "0   -0.0000   1.000000  1.000000  1.000000  \n",
       "1   -0.0000   1.000000  1.000000  1.000000  \n",
       "2   -0.0000   0.909091  0.804459  1.013723  \n",
       "3   -0.0000   1.000000  1.000000  1.000000  \n",
       "4   -3.4483   0.833333  0.697692  0.968974  \n",
       "5   -0.0000   0.833333  0.697692  0.968974  "
      ]
     },
     "execution_count": 661,
     "metadata": {},
     "output_type": "execute_result"
    }
   ],
   "source": [
    "freq_rel_mappe"
   ]
  },
  {
   "cell_type": "markdown",
   "metadata": {},
   "source": [
    "Initialize the matplotlib figure"
   ]
  },
  {
   "cell_type": "code",
   "execution_count": 453,
   "metadata": {},
   "outputs": [
    {
     "data": {
      "image/png": "[encoded data removed]",
      "text/plain": [
       "<Figure size 432x288 with 1 Axes>"
      ]
     },
     "metadata": {
      "needs_background": "light"
     },
     "output_type": "display_data"
    }
   ],
   "source": [
    "f, ax = plt.subplots()"
   ]
  },
  {
   "cell_type": "code",
   "execution_count": 1172,
   "metadata": {},
   "outputs": [],
   "source": [
    "def survey(labels, data, category_names, ic, data_cum):\n",
    "    \"\"\"\n",
    "    Parameters\n",
    "    ----------\n",
    "    category_names : list of str\n",
    "        The category labels.\n",
    "    \"\"\"\n",
    "    labels=list(labels)\n",
    "    data = np.array(data)\n",
    "    category_colors = ['#000099','#b3b3b3','#cc0000']\n",
    "\n",
    "    fig, ax = plt.subplots(figsize=(9.2, 5))\n",
    "    ax.invert_yaxis()\n",
    "    ax.xaxis.set_visible(True)\n",
    "    ax.set_xlim(-100,100)\n",
    "    \n",
    "    ax.set_xticks(ax.get_xticks(), ['100','75','50','25','0','25','50','75','100'])\n",
    "\n",
    "    for i, (colname, color) in enumerate(zip(category_names, category_colors)):\n",
    "        widths = abs(data[:, i])\n",
    "        starts = data_cum.iloc[:, i]\n",
    "        rects = ax.barh(labels, widths, left=starts, height=0.5,\n",
    "                     label=colname,color=color)\n",
    "\n",
    "        #r, g, b, _ = color\n",
    "        #text_color = 'white' if r * g * b < 0.5 else 'darkgrey'\n",
    "        #ax.bar_label(rects, label_type='center', color=text_color)\n",
    "        ax.legend(ncol=len(category_names), bbox_to_anchor=(0, 1),\n",
    "              loc='lower left', fontsize='small')\n",
    "\n",
    "\n",
    "        for i in range(len(labels)):\n",
    "            centro=ic['uncertain'][i]*2*data_cum.iloc[i,2]\n",
    "            diff=data_cum.iloc[i,2]\n",
    "            lunghezza=(ic['sup_lim'][i]-ic['inf_lim'][i])*2*data_cum.iloc[i,2]\n",
    "            ax.add_artist(Rectangle((centro-diff-lunghezza/2,i-0.2/2),lunghezza,0.2, color='black'))\n",
    "            \n",
    "\n",
    "        plt.grid(True, axis='x', color='black', alpha=0.5, linestyle='--')\n",
    "\n",
    "    return fig"
   ]
  },
  {
   "cell_type": "code",
   "execution_count": 1173,
   "metadata": {},
   "outputs": [],
   "source": [
    "col=['-(<3(%))','==3/4(%)','>4(%)']\n",
    "col1=['1-2','3-4','5-6']"
   ]
  },
  {
   "cell_type": "code",
   "execution_count": 1174,
   "metadata": {},
   "outputs": [],
   "source": [
    "data=freq_rel_mappe\n",
    "data_cum = pd.DataFrame(data={'first':data['-(<3(%))']-data['==3/4(%)']/2,'second':-data['==3/4(%)']/2,'third':data['==3/4(%)']/2})"
   ]
  },
  {
   "cell_type": "code",
   "execution_count": 1175,
   "metadata": {},
   "outputs": [
    {
     "data": {
      "image/png": "[encoded data removed]",
      "text/plain": [
       "<Figure size 662.4x360 with 1 Axes>"
      ]
     },
     "metadata": {
      "needs_background": "light"
     },
     "output_type": "display_data"
    }
   ],
   "source": [
    "graph1=survey(data['dim_analisi'],data[col],col1,data[['uncertain','inf_lim','sup_lim']],data_cum)"
   ]
  },
  {
   "cell_type": "code",
   "execution_count": 1176,
   "metadata": {},
   "outputs": [],
   "source": [
    "data=freq_rel_serie\n",
    "data_cum = pd.DataFrame(data={'first':data['-(<3(%))']-data['==3/4(%)']/2,'second':-data['==3/4(%)']/2,'third':data['==3/4(%)']/2})"
   ]
  },
  {
   "cell_type": "code",
   "execution_count": 1177,
   "metadata": {},
   "outputs": [
    {
     "data": {
      "image/png": "[encoded data removed]",
      "text/plain": [
       "<Figure size 662.4x360 with 1 Axes>"
      ]
     },
     "metadata": {
      "needs_background": "light"
     },
     "output_type": "display_data"
    }
   ],
   "source": [
    "graph2=survey(data['dim_analisi'],data[col],col1,data[['uncertain','inf_lim','sup_lim']],data_cum)"
   ]
  },
  {
   "cell_type": "code",
   "execution_count": 1178,
   "metadata": {},
   "outputs": [],
   "source": [
    "data=freq_rel_serie[col]#).cumsum(axis=1)"
   ]
  },
  {
   "cell_type": "code",
   "execution_count": 1181,
   "metadata": {},
   "outputs": [],
   "source": [
    "graph1.savefig('stacked_barchart_choroplet')\n",
    "graph2.savefig('stacked_barchart_time_series')"
   ]
  },
  {
   "cell_type": "code",
   "execution_count": null,
   "metadata": {},
   "outputs": [],
   "source": []
  }
 ],
 "metadata": {
  "interpreter": {
   "hash": "84123bd705d01d90b90898f9dc6a69f076bbe25dfb803da824c24c6145edb210"
  },
  "kernelspec": {
   "display_name": "Python 3.9.10 64-bit (windows store)",
   "language": "python",
   "name": "python3"
  },
  "language_info": {
   "codemirror_mode": {
    "name": "ipython",
    "version": 3
   },
   "file_extension": ".py",
   "mimetype": "text/x-python",
   "name": "python",
   "nbconvert_exporter": "python",
   "pygments_lexer": "ipython3",
   "version": "3.9.10"
  },
  "orig_nbformat": 4
 },
 "nbformat": 4,
 "nbformat_minor": 2
}
